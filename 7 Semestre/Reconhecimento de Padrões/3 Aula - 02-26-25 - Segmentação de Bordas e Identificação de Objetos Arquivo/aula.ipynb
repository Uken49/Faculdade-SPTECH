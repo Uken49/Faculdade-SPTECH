{
 "cells": [
  {
   "cell_type": "code",
   "execution_count": null,
   "metadata": {},
   "outputs": [],
   "source": [
    "import numpy as np\n",
    "import cv2\n",
    "import mahotas\n",
    "import matplotlib.pyplot as plt\n",
    "from pylab import imshow, gray, show\n",
    "from os import path\n",
    "\n"
   ]
  }
 ],
 "metadata": {
  "language_info": {
   "name": "python"
  }
 },
 "nbformat": 4,
 "nbformat_minor": 2
}
