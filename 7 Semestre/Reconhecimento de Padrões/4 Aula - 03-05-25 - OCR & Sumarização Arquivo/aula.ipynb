{
 "cells": [
  {
   "cell_type": "code",
   "execution_count": null,
   "id": "19e6e64d",
   "metadata": {},
   "outputs": [],
   "source": [
    "pip install pytesseract pillow nltk spacy && sudo apt install -y tesseract-ocr || brew install tesseract || (Invoke-WebRequest -Uri \"https://github.com/UB-Mannheim/tesseract/releases/latest/download/tesseract-ocr-w64-setup.exe\" -OutFile \"tesseract.exe\" && Start-Process \"tesseract.exe\" -Wait) && python -c \"import nltk; nltk.download('punkt'); nltk.download('stopwords')\" && python -m spacy download pt_core_news_sm"
   ]
  },
  {
   "cell_type": "code",
   "execution_count": 4,
   "id": "8184733a",
   "metadata": {},
   "outputs": [
    {
     "ename": "ModuleNotFoundError",
     "evalue": "No module named 'spacy'",
     "output_type": "error",
     "traceback": [
      "\u001b[1;31m---------------------------------------------------------------------------\u001b[0m",
      "\u001b[1;31mModuleNotFoundError\u001b[0m                       Traceback (most recent call last)",
      "Cell \u001b[1;32mIn[4], line 6\u001b[0m\n\u001b[0;32m      4\u001b[0m \u001b[38;5;28;01mfrom\u001b[39;00m\u001b[38;5;250m \u001b[39m\u001b[38;5;21;01mnltk\u001b[39;00m\u001b[38;5;21;01m.\u001b[39;00m\u001b[38;5;21;01mtokenize\u001b[39;00m\u001b[38;5;250m \u001b[39m\u001b[38;5;28;01mimport\u001b[39;00m word_tokenize, sent_tokenize\n\u001b[0;32m      5\u001b[0m \u001b[38;5;28;01mfrom\u001b[39;00m\u001b[38;5;250m \u001b[39m\u001b[38;5;21;01mnltk\u001b[39;00m\u001b[38;5;21;01m.\u001b[39;00m\u001b[38;5;21;01mprobability\u001b[39;00m\u001b[38;5;250m \u001b[39m\u001b[38;5;28;01mimport\u001b[39;00m FreqDist\n\u001b[1;32m----> 6\u001b[0m \u001b[38;5;28;01mimport\u001b[39;00m\u001b[38;5;250m \u001b[39m\u001b[38;5;21;01mspacy\u001b[39;00m\n\u001b[0;32m      8\u001b[0m \u001b[38;5;66;03m# Carregar modelo de linguagem do SpaCy\u001b[39;00m\n\u001b[0;32m      9\u001b[0m nlp \u001b[38;5;241m=\u001b[39m spacy\u001b[38;5;241m.\u001b[39mload(\u001b[38;5;124m\"\u001b[39m\u001b[38;5;124men_core_web_sm\u001b[39m\u001b[38;5;124m\"\u001b[39m)\n",
      "\u001b[1;31mModuleNotFoundError\u001b[0m: No module named 'spacy'"
     ]
    }
   ],
   "source": [
    "import pytesseract\n",
    "from PIL import Image\n",
    "from nltk.corpus import stopwords\n",
    "from nltk.tokenize import word_tokenize, sent_tokenize\n",
    "from nltk.probability import FreqDist\n",
    "import spacy\n",
    "\n",
    "# Carregar modelo de linguagem do SpaCy\n",
    "nlp = spacy.load(\"en_core_web_sm\")\n",
    "\n",
    "# Baixar as stopwords do NLTK\n",
    "import nltk\n",
    "nltk.download('stopwords')\n",
    "nltk.download('punkt')\n",
    "\n",
    "# Função para realizar OCR em uma imagem\n",
    "def perform_ocr(image_path):\n",
    "    # Abrir a imagem\n",
    "    image = Image.open(image_path)\n",
    "    # Realizar OCR usando Tesseract\n",
    "    text = pytesseract.image_to_string(image)\n",
    "    return text\n",
    "\n",
    "# Função para realizar a sumarização de texto\n",
    "def perform_summarization(text):\n",
    "    # Tokenize o texto em frases, divide o texto em frases usando a função sent_tokenize da biblioteca NLTK, considerando o idioma ingles padrao.\n",
    "    sentences = sent_tokenize(text)\n",
    "    # Tokenize as palavras, divide o texto em palavras usando a função word_tokenize da biblioteca NLTK.\n",
    "    words = word_tokenize(text)\n",
    "    # Remova stopwords, remove as palavras irrelevantes (stop words) do texto.\n",
    "    stop_words = set(stopwords.words(\"english\"))\n",
    "    words = [word for word in words if word.lower() not in stop_words]\n",
    "    # Calcule a frequência das palavras, calcula a frequência das palavras no texto usando a classe FreqDist da biblioteca NLTK.\n",
    "    freq_dist = FreqDist(words)\n",
    "    # Calcule a frequência máxima, calcula a frequência máxima entre todas as palavras no texto.\n",
    "    max_freq = max(freq_dist.values())\n",
    "    # Normalizar as frequências, normaliza as frequências das palavras dividindo a frequência de cada palavra pela frequência máxima.\n",
    "    for word in freq_dist.keys():\n",
    "        freq_dist[word] = (freq_dist[word]/max_freq)\n",
    "    # Calcule a pontuação das frases\n",
    "    sentence_scores = {}\n",
    "    for sentence in sentences:\n",
    "        #Divide a frase em palavras, converte para minúsculas\n",
    "        for word in word_tokenize(sentence.lower(), language='english'):  \n",
    "            #Verifica se a palavra está presente nas palavras relevantes (que não são stop words).\n",
    "            if word in freq_dist.keys():\n",
    "                #Verifica se a frase tem menos de 30 palavras.\n",
    "                if len(sentence.split(' ')) < 30: \n",
    "                    #Verifica se a frase não está presente no dicionário de pontuações das frases.\n",
    "                    if sentence not in sentence_scores.keys(): \n",
    "                        #Atribui a pontuação da palavra à frase no dicionário de pontuações das frases.\n",
    "                        sentence_scores[sentence] = freq_dist[word] \n",
    "                    #Se a frase já estiver presente no dicionário de pontuações das frases.\n",
    "                    else:\n",
    "                        #Incrementa a pontuação da frase com a pontuação da palavra.\n",
    "                        sentence_scores[sentence] += freq_dist[word] \n",
    "    # Obtenha as frases mais importantes\n",
    "    #Ordena as frases com base em suas pontuações, do maior para o menor, e seleciona as três primeiras frases.\n",
    "    summarized_sentences = sorted(sentence_scores, key=sentence_scores.get, reverse=True)[:3]\n",
    "    #Une as frases selecionadas em um único resumo, separadas por espaço.\n",
    "    summary = ' '.join(summarized_sentences) \n",
    "    return summary\n",
    "\n",
    "# Caminho da imagem\n",
    "image_path = \"texto.png\"\n",
    "\n",
    "# Realizar OCR\n",
    "print(\"Performing OCR...\")\n",
    "ocr_text = perform_ocr(image_path)\n",
    "print(\"OCR Result:\")\n",
    "print(ocr_text)\n",
    "print()\n",
    "\n",
    "# Realizar sumarização\n",
    "print(\"Performing Summarization...\")\n",
    "summary_text = perform_summarization(ocr_text)\n",
    "print(\"Summary:\")\n",
    "print(summary_text)\n",
    "print()\n",
    "\n"
   ]
  },
  {
   "cell_type": "code",
   "execution_count": null,
   "id": "54fc30eb",
   "metadata": {},
   "outputs": [],
   "source": []
  },
  {
   "cell_type": "code",
   "execution_count": null,
   "id": "b94e2b40",
   "metadata": {},
   "outputs": [],
   "source": []
  }
 ],
 "metadata": {
  "kernelspec": {
   "display_name": "Python 3",
   "language": "python",
   "name": "python3"
  },
  "language_info": {
   "codemirror_mode": {
    "name": "ipython",
    "version": 3
   },
   "file_extension": ".py",
   "mimetype": "text/x-python",
   "name": "python",
   "nbconvert_exporter": "python",
   "pygments_lexer": "ipython3",
   "version": "3.13.2"
  }
 },
 "nbformat": 4,
 "nbformat_minor": 5
}
